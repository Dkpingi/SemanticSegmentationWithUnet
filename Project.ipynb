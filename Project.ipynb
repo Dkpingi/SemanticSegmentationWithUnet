{
 "cells": [
  {
   "cell_type": "code",
   "execution_count": 1,
   "metadata": {},
   "outputs": [
    {
     "name": "stdout",
     "output_type": "stream",
     "text": [
      "env: CUDA_LAUNCH_BLOCKING=1\n"
     ]
    }
   ],
   "source": [
    "import torch\n",
    "import torch.nn as nn\n",
    "import torch.nn.functional as F\n",
    "import torchvision\n",
    "import torchvision.transforms as transforms\n",
    "import adabound\n",
    "from PIL import Image\n",
    "import glob\n",
    "import os\n",
    "import matplotlib.pyplot as plt\n",
    "import numpy as np\n",
    "import time\n",
    "from torch.autograd import Variable\n",
    "from metrics import *\n",
    "from loss import *\n",
    "from dataloader import * \n",
    "from model import *"
   ]
  },
  {
   "cell_type": "code",
   "execution_count": 2,
   "metadata": {},
   "outputs": [],
   "source": [
    "transform = transforms.Compose(\n",
    "    [transforms.ToTensor(),\n",
    "     transforms.Normalize((0.5, 0.5, 0.5), (0.5, 0.5, 0.5))\n",
    "    ])\n",
    "\n",
    "trainset = DataLoaderSegmentation('./data/images/train', transform = None, train = True)\n",
    "trainloader = torch.utils.data.DataLoader(trainset, batch_size=1,\n",
    "                                          shuffle=True, num_workers=0, \n",
    "                                          collate_fn = Collator(crop_size = (200,200)), pin_memory = True)\n",
    "\n",
    "valset = DataLoaderSegmentation('./data/images/val', transform = transform)\n",
    "valloader = torch.utils.data.DataLoader(valset, batch_size=1,\n",
    "                                         shuffle=False, num_workers=0)\n",
    "\n",
    "testset = DataLoaderSegmentation('./data/images/test', transform = transform)\n",
    "testloader = torch.utils.data.DataLoader(testset, batch_size=1,\n",
    "                                         shuffle=False, num_workers=0)\n",
    "    \n",
    "#print_loader(valloader)\n",
    "#compute_loss(valloader, net, criterion)"
   ]
  },
  {
   "cell_type": "code",
   "execution_count": 3,
   "metadata": {},
   "outputs": [],
   "source": [
    "dtype = torch.float32\n",
    "device = torch.device('cuda')\n",
    "cold = True\n",
    "net = Net()\n",
    "net = net.to(device=device)\n",
    "if cold == True:\n",
    "    IoU = 0.0\n",
    "else:\n",
    "    net.load_state_dict(torch.load(f\"./saved_models/{exp_name}\"))\n",
    "    IoU = compute_IoU(valloader, net)\n",
    "\n",
    "exp_name = \"exp_name\"\n",
    "params = net.parameters()\n",
    "optimizer = torch.optim.SGD(params, momentum = 0.9, lr = 1e-3)\n",
    "scheduler = torch.optim.lr_scheduler.ReduceLROnPlateau(optimizer, mode='min', factor=0.1, patience=10)\n",
    "criterion = FocalLoss(gamma = 2.0)"
   ]
  },
  {
   "cell_type": "code",
   "execution_count": 4,
   "metadata": {
    "scrolled": true
   },
   "outputs": [
    {
     "name": "stdout",
     "output_type": "stream",
     "text": [
      "0\n",
      "Learning Rate: [0.001]\n",
      "train loss: 0.1184967243093935\n",
      "val loss: 0.09994082432240248\n",
      "val accuracy: 0.8956274390220642\n",
      "val IoU per class: tensor([0.8881, 0.3633, 0.2425])\n",
      "val IoU: 0.497953325510025\n",
      "Time for Epoch: 90.19857668876648\n"
     ]
    },
    {
     "ename": "KeyboardInterrupt",
     "evalue": "",
     "output_type": "error",
     "traceback": [
      "\u001b[1;31m---------------------------------------------------------------------------\u001b[0m",
      "\u001b[1;31mKeyboardInterrupt\u001b[0m                         Traceback (most recent call last)",
      "\u001b[1;32m<ipython-input-4-940678d92866>\u001b[0m in \u001b[0;36m<module>\u001b[1;34m\u001b[0m\n\u001b[0;32m     17\u001b[0m         \u001b[0moutputs\u001b[0m \u001b[1;33m=\u001b[0m \u001b[0mnet\u001b[0m\u001b[1;33m(\u001b[0m\u001b[0minputs\u001b[0m\u001b[1;33m)\u001b[0m\u001b[1;33m\u001b[0m\u001b[0m\n\u001b[0;32m     18\u001b[0m         \u001b[0mloss\u001b[0m \u001b[1;33m=\u001b[0m \u001b[0mcriterion\u001b[0m\u001b[1;33m(\u001b[0m\u001b[0moutputs\u001b[0m\u001b[1;33m,\u001b[0m \u001b[0mlabels\u001b[0m\u001b[1;33m)\u001b[0m\u001b[1;33m\u001b[0m\u001b[0m\n\u001b[1;32m---> 19\u001b[1;33m         \u001b[0mloss\u001b[0m\u001b[1;33m.\u001b[0m\u001b[0mbackward\u001b[0m\u001b[1;33m(\u001b[0m\u001b[1;33m)\u001b[0m\u001b[1;33m\u001b[0m\u001b[0m\n\u001b[0m\u001b[0;32m     20\u001b[0m         \u001b[0moptimizer\u001b[0m\u001b[1;33m.\u001b[0m\u001b[0mstep\u001b[0m\u001b[1;33m(\u001b[0m\u001b[1;33m)\u001b[0m\u001b[1;33m\u001b[0m\u001b[0m\n\u001b[0;32m     21\u001b[0m \u001b[1;33m\u001b[0m\u001b[0m\n",
      "\u001b[1;32m~\\Anaconda3\\lib\\site-packages\\torch\\tensor.py\u001b[0m in \u001b[0;36mbackward\u001b[1;34m(self, gradient, retain_graph, create_graph)\u001b[0m\n\u001b[0;32m    193\u001b[0m                 \u001b[0mproducts\u001b[0m\u001b[1;33m.\u001b[0m \u001b[0mDefaults\u001b[0m \u001b[0mto\u001b[0m\u001b[0;31m \u001b[0m\u001b[0;31m`\u001b[0m\u001b[0;31m`\u001b[0m\u001b[1;32mFalse\u001b[0m\u001b[0;31m`\u001b[0m\u001b[0;31m`\u001b[0m\u001b[1;33m.\u001b[0m\u001b[1;33m\u001b[0m\u001b[0m\n\u001b[0;32m    194\u001b[0m         \"\"\"\n\u001b[1;32m--> 195\u001b[1;33m         \u001b[0mtorch\u001b[0m\u001b[1;33m.\u001b[0m\u001b[0mautograd\u001b[0m\u001b[1;33m.\u001b[0m\u001b[0mbackward\u001b[0m\u001b[1;33m(\u001b[0m\u001b[0mself\u001b[0m\u001b[1;33m,\u001b[0m \u001b[0mgradient\u001b[0m\u001b[1;33m,\u001b[0m \u001b[0mretain_graph\u001b[0m\u001b[1;33m,\u001b[0m \u001b[0mcreate_graph\u001b[0m\u001b[1;33m)\u001b[0m\u001b[1;33m\u001b[0m\u001b[0m\n\u001b[0m\u001b[0;32m    196\u001b[0m \u001b[1;33m\u001b[0m\u001b[0m\n\u001b[0;32m    197\u001b[0m     \u001b[1;32mdef\u001b[0m \u001b[0mregister_hook\u001b[0m\u001b[1;33m(\u001b[0m\u001b[0mself\u001b[0m\u001b[1;33m,\u001b[0m \u001b[0mhook\u001b[0m\u001b[1;33m)\u001b[0m\u001b[1;33m:\u001b[0m\u001b[1;33m\u001b[0m\u001b[0m\n",
      "\u001b[1;32m~\\Anaconda3\\lib\\site-packages\\torch\\autograd\\__init__.py\u001b[0m in \u001b[0;36mbackward\u001b[1;34m(tensors, grad_tensors, retain_graph, create_graph, grad_variables)\u001b[0m\n\u001b[0;32m     97\u001b[0m     Variable._execution_engine.run_backward(\n\u001b[0;32m     98\u001b[0m         \u001b[0mtensors\u001b[0m\u001b[1;33m,\u001b[0m \u001b[0mgrad_tensors\u001b[0m\u001b[1;33m,\u001b[0m \u001b[0mretain_graph\u001b[0m\u001b[1;33m,\u001b[0m \u001b[0mcreate_graph\u001b[0m\u001b[1;33m,\u001b[0m\u001b[1;33m\u001b[0m\u001b[0m\n\u001b[1;32m---> 99\u001b[1;33m         allow_unreachable=True)  # allow_unreachable flag\n\u001b[0m\u001b[0;32m    100\u001b[0m \u001b[1;33m\u001b[0m\u001b[0m\n\u001b[0;32m    101\u001b[0m \u001b[1;33m\u001b[0m\u001b[0m\n",
      "\u001b[1;31mKeyboardInterrupt\u001b[0m: "
     ]
    }
   ],
   "source": [
    "for epoch in range(150):\n",
    "    t0 = time.time()\n",
    "    net.train() # loop over the dataset multiple times\n",
    "    running_loss = 0.0\n",
    "    for i, data in enumerate(trainloader, 0):\n",
    "        # get the inputs; data is a list of [inputs, labels]\n",
    "        inputs, labels = data\n",
    "        inputs = inputs.to(device=device, dtype=dtype)  \n",
    "        labels = labels.to(device=device, dtype=torch.long)\n",
    "\n",
    "        labels = labels[:,0,:,:]\n",
    "\n",
    "        # zero the parameter gradients\n",
    "        optimizer.zero_grad()\n",
    "\n",
    "        # forward + backward + optimize\n",
    "        outputs = net(inputs)\n",
    "        loss = criterion(outputs, labels)\n",
    "        loss.backward()\n",
    "        optimizer.step()\n",
    "\n",
    "        # print statistics\n",
    "        running_loss += loss.item()\n",
    "        \n",
    "    print(epoch)\n",
    "    lr = [ group['lr'] for group in optimizer.param_groups ]\n",
    "    print(f'Learning Rate: {lr}')\n",
    "    print(f'train loss: {running_loss/i}')\n",
    "    val_loss = compute_loss(valloader, net, criterion)\n",
    "    print(f'val loss: {val_loss}')\n",
    "    scheduler.step(val_loss)\n",
    "    print(f'val accuracy: {compute_accuracy(valloader, net)}')\n",
    "    val_IoU = compute_IoU(valloader, net, reduce = False)\n",
    "    print(f'val IoU per class: {val_IoU}')\n",
    "    val_IoU = torch.mean(val_IoU)\n",
    "    print(f'val IoU: {val_IoU}')\n",
    "    if val_IoU > IoU:\n",
    "        torch.save(net.state_dict(),f\"./saved_models/{exp_name}\")\n",
    "        IoU = val_IoU\n",
    "    t = time.time() - t0\n",
    "    print(f'Time for Epoch: {t}')\n",
    "\n",
    "print('Finished Training')"
   ]
  },
  {
   "cell_type": "code",
   "execution_count": null,
   "metadata": {},
   "outputs": [],
   "source": [
    "net = Net()\n",
    "net = net.to(device=device)\n",
    "net.load_state_dict(torch.load(f\"./saved_models/{exp_name}\"))\n",
    "plot_and_eval(valloader, net)\n",
    "print(compute_IoU(valloader, net))"
   ]
  },
  {
   "cell_type": "code",
   "execution_count": null,
   "metadata": {},
   "outputs": [],
   "source": [
    "headline = ['ExperimentName', 'train_loss', 'val_loss', 'test_loss', 'train_acc', 'val_acc', 'test_acc', 'train_IoU', 'val_IoU', 'test_IoU']\n",
    "train_loss = compute_loss(trainloader, net, criterion)\n",
    "val_loss = compute_loss(valloader, net, criterion)\n",
    "test_loss = compute_loss(testloader, net, criterion)\n",
    "train_acc = compute_accuracy(trainloader, net)\n",
    "val_acc = compute_accuracy(valloader, net)\n",
    "test_acc = compute_accuracy(testloader, net)\n",
    "train_IoU = compute_IoU(trainloader, net)\n",
    "val_IoU = compute_IoU(valloader, net)\n",
    "test_IoU = compute_IoU(testloader, net)\n",
    "result = [exp_name, train_loss, val_loss, test_loss, train_acc, val_acc, test_acc, train_IoU, val_IoU, test_IoU]\n",
    "result = [x if type(x) is str else format(x,'.4f') for x in result]\n",
    "print(result)\n",
    "print(compute_IoU(valloader, net, reduce = False))"
   ]
  },
  {
   "cell_type": "code",
   "execution_count": null,
   "metadata": {},
   "outputs": [],
   "source": [
    "import csv\n",
    "import os\n",
    "with open('experiments.csv', mode='a', newline = '') as result_file:\n",
    "    result_writer = csv.writer(result_file, delimiter=',')\n",
    "    if os.stat(\"experiments.csv\").st_size == 0:\n",
    "        result_writer.writerow(headline)\n",
    "    result_writer.writerow(result)"
   ]
  }
 ],
 "metadata": {
  "kernelspec": {
   "display_name": "Python 3",
   "language": "python",
   "name": "python3"
  },
  "language_info": {
   "codemirror_mode": {
    "name": "ipython",
    "version": 3
   },
   "file_extension": ".py",
   "mimetype": "text/x-python",
   "name": "python",
   "nbconvert_exporter": "python",
   "pygments_lexer": "ipython3",
   "version": "3.6.4"
  },
  "widgets": {
   "application/vnd.jupyter.widget-state+json": {
    "state": {},
    "version_major": 2,
    "version_minor": 0
   }
  }
 },
 "nbformat": 4,
 "nbformat_minor": 4
}
